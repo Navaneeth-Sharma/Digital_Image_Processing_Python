{
 "cells": [
  {
   "cell_type": "code",
   "execution_count": null,
   "metadata": {},
   "outputs": [],
   "source": [
    "# default_exp convolution_from_scratch"
   ]
  },
  {
   "cell_type": "markdown",
   "metadata": {},
   "source": [
    "# Default Title (change me)\n",
    "> Default description (change me)"
   ]
  },
  {
   "cell_type": "code",
   "execution_count": null,
   "metadata": {},
   "outputs": [],
   "source": [
    "#export\n",
    "import cv2\n",
    "import numpy as np"
   ]
  },
  {
   "cell_type": "code",
   "execution_count": null,
   "metadata": {},
   "outputs": [],
   "source": [
    "#export\n",
    "def conv2d(image_path, kernel):\n",
    "\n",
    "    image = cv2.imread(image_path)\n",
    "    convolved = np.zeros((image.shape[0], image.shape[1])) # generated image\n",
    "    image = cv2.cvtColor(image, cv2.COLOR_RGB2GRAY)\n",
    "\n",
    "    kernel = np.fliplr(kernel) # flip horizontally\n",
    "    kernel = np.flipud(kernel) # flip vertically, this could be one-line but it's more readable\n",
    "    \n",
    "    # pad the image to prevent out of bound errors\n",
    "\n",
    "    pad = np.zeros((image.shape[0] + 2, image.shape[1] + 2)) # create padded base first\n",
    "    pad[1:-1, 1:-1] =  image # locate the image on the base\n",
    "    \n",
    "    # this will be like \n",
    "    # [0 0 0 0]\n",
    "    # [0 1 1 1]\n",
    "    # [0 2 3 4]\n",
    "    # [0 4 3 2]\n",
    "\n",
    "    for x in range(image.shape[0]): # rows\n",
    "        for y in range(image.shape[1]): # columns \n",
    "            # sum of products of elements in image overlapping kernel and kernel elements\n",
    "            convolved[x, y]=(kernel * pad[x: x+3, y: y+3]).sum() \n",
    "\n",
    "    return convolved"
   ]
  },
  {
   "cell_type": "code",
   "execution_count": null,
   "metadata": {},
   "outputs": [],
   "source": [
    "#export\n",
    "kernel = np.array([[-1, 0, 1], [-1, 0, 1], [-1, 0, 1]]) # prewitt filter\n",
    "\n",
    "cv2.imwrite('./lena_prewitt.png', conv2d(\"lena.png\", kernel))"
   ]
  }
 ],
 "metadata": {
  "jupytext": {
   "split_at_heading": true
  },
  "kernelspec": {
   "display_name": "Python 3 (ipykernel)",
   "language": "python",
   "name": "python3"
  },
  "language_info": {
   "codemirror_mode": {
    "name": "ipython",
    "version": 3
   },
   "file_extension": ".py",
   "mimetype": "text/x-python",
   "name": "python",
   "nbconvert_exporter": "python",
   "pygments_lexer": "ipython3",
   "version": "3.7.11"
  }
 },
 "nbformat": 4,
 "nbformat_minor": 4
}
